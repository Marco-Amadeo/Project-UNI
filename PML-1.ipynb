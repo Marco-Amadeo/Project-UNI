{
 "cells": [
  {
   "cell_type": "code",
   "execution_count": 1,
   "metadata": {},
   "outputs": [],
   "source": [
    "import numpy as np\n",
    "from sklearn.linear_model import LinearRegression"
   ]
  },
  {
   "cell_type": "markdown",
   "metadata": {},
   "source": [
    "Menghitung nilai invers \n"
   ]
  },
  {
   "cell_type": "code",
   "execution_count": 2,
   "metadata": {},
   "outputs": [],
   "source": [
    "M1 = np.matrix([[2,4,6],[1,2,3],[3,1,9]], dtype=int)\n",
    "M2 =np.matrix([[1,3,7],[3,2,1],[1,5,2]], dtype=int)\n",
    "Matrix=[M1,M2]"
   ]
  },
  {
   "cell_type": "code",
   "execution_count": 3,
   "metadata": {},
   "outputs": [
    {
     "data": {
      "text/plain": [
       "[matrix([[2, 4, 6],\n",
       "         [1, 2, 3],\n",
       "         [3, 1, 9]]),\n",
       " matrix([[1, 3, 7],\n",
       "         [3, 2, 1],\n",
       "         [1, 5, 2]])]"
      ]
     },
     "execution_count": 3,
     "metadata": {},
     "output_type": "execute_result"
    }
   ],
   "source": [
    "Matrix"
   ]
  },
  {
   "cell_type": "code",
   "execution_count": 4,
   "metadata": {},
   "outputs": [
    {
     "name": "stdout",
     "output_type": "stream",
     "text": [
      "Not invertible. Skip this one.\n",
      "[[2 4 6]\n",
      " [1 2 3]\n",
      " [3 1 9]]\n",
      "invertible, here's the inverse of matrix M2\n",
      "[[-0.01333333  0.38666667 -0.14666667]\n",
      " [-0.06666667 -0.06666667  0.26666667]\n",
      " [ 0.17333333 -0.02666667 -0.09333333]]\n"
     ]
    }
   ],
   "source": [
    "for m in Matrix:\n",
    "    try:\n",
    "        inverse = np.linalg.inv(m)\n",
    "    except np.linalg.LinAlgError:\n",
    "        print(\"Not invertible. Skip this one.\")\n",
    "        print(m)\n",
    "        pass\n",
    "    else:\n",
    "        print(\"invertible, here's the inverse of matrix M{}\".format(len(Matrix)))\n",
    "        print(inverse)\n"
   ]
  },
  {
   "cell_type": "markdown",
   "metadata": {},
   "source": [
    "Membuat model regresi linear dengan Sklearn"
   ]
  },
  {
   "cell_type": "code",
   "execution_count": 5,
   "metadata": {},
   "outputs": [],
   "source": [
    "y = np.array([10,13, 16, 20, 25, 30, 35, 37, 40, 45])\n",
    "x1= np.array([2, 6, 8, 9, 11, 13, 15, 19, 21, 24])\n",
    "x2= np.array([40, 43, 45, 48,50, 55, 57, 60, 62, 67])\n",
    "X= np.stack((x1, x2), axis=-1)"
   ]
  },
  {
   "cell_type": "code",
   "execution_count": 6,
   "metadata": {},
   "outputs": [],
   "source": [
    "reg = LinearRegression().fit(X, y)\n"
   ]
  },
  {
   "cell_type": "code",
   "execution_count": 7,
   "metadata": {},
   "outputs": [
    {
     "data": {
      "text/plain": [
       "array([-0.36157963,  1.63988169])"
      ]
     },
     "execution_count": 7,
     "metadata": {},
     "output_type": "execute_result"
    }
   ],
   "source": [
    "reg.coef_"
   ]
  },
  {
   "cell_type": "code",
   "execution_count": 8,
   "metadata": {},
   "outputs": [
    {
     "data": {
      "text/plain": [
       "-54.69354554737843"
      ]
     },
     "execution_count": 8,
     "metadata": {},
     "output_type": "execute_result"
    }
   ],
   "source": [
    "reg.intercept_"
   ]
  },
  {
   "cell_type": "markdown",
   "metadata": {},
   "source": [
    "Manual Dengan OLS\n"
   ]
  },
  {
   "cell_type": "code",
   "execution_count": 9,
   "metadata": {},
   "outputs": [],
   "source": [
    "X=np.hstack((np.ones((10,1)), X))\n",
    "beta= np.dot(np.linalg.inv(np.dot(np.transpose(X),X)),\n",
    "             np.dot(np.transpose(X),y))"
   ]
  },
  {
   "cell_type": "code",
   "execution_count": 12,
   "metadata": {},
   "outputs": [
    {
     "data": {
      "text/plain": [
       "array([-54.69354555,  -0.36157963,   1.63988169])"
      ]
     },
     "execution_count": 12,
     "metadata": {},
     "output_type": "execute_result"
    }
   ],
   "source": [
    "beta"
   ]
  }
 ],
 "metadata": {
  "kernelspec": {
   "display_name": "test env",
   "language": "python",
   "name": "test"
  },
  "language_info": {
   "codemirror_mode": {
    "name": "ipython",
    "version": 3
   },
   "file_extension": ".py",
   "mimetype": "text/x-python",
   "name": "python",
   "nbconvert_exporter": "python",
   "pygments_lexer": "ipython3",
   "version": "3.8.5"
  }
 },
 "nbformat": 4,
 "nbformat_minor": 4
}
